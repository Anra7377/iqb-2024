


import nglview as nv

import MDAnalysis as mda

pdb_id = "2zq2"

u = mda.Universe(f"pdb/pdb{pdb_id}.ent")

protein = u.select_atoms("protein")
ligand_A = u.select_atoms("resname 13U and altLoc A")
ligand_B = u.select_atoms("resname 13U and altLoc B")


view = nv.show_mdanalysis(protein)
view.clear_representations()
view.add_representation("surface", colorScheme="hydrophobicity")
view.add_component(ligand_A)
view


view = nv.show_mdanalysis(protein)
view.clear_representations()
view.add_representation("surface", colorScheme="hydrophobicity")
view.add_component(ligand_B)
view


ligand_A



ligand_B



