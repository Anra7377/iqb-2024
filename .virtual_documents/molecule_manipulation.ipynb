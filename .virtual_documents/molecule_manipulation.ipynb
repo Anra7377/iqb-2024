


from rdkit import Chem
from rdkit.Chem.Draw import IPythonConsole
from rdkit.Chem import Draw

# Configuration for displaying in Jupyter notebooks
IPythonConsole.ipython_useSVG = True  # Use SVG for higher quality images
IPythonConsole.drawOptions.addAtomIndices = True  # Show atom indices
IPythonConsole.molSize = 600,600 # Set size of image

ligand = Chem.MolFromMol2File("ligands/13U_ideal.mol2")
ligand


# load another copy to manipulate
mod_ligand_N = Chem.MolFromMol2File("ligands/13U_ideal.mol2")

# change carbon in ring to a nitrogen
mod_ligand_N.GetAtomWithIdx(23).SetAtomicNum(7)

mod_ligand_N


# We can see that the nitrogen we've added has a hydrogen attached to it.
# In order to maintain aromaticity, we need to remove this hydrogen.

atom = mod_ligand_N.GetAtomWithIdx(23) # Get our nitrogen atom
atom.SetNumExplicitHs(0) # Set the number of explicit hydrogens to 0


mod_ligand_N





# load the ligand, but keep the hydrogens
mod_ligand_methyl = Chem.MolFromMol2File("ligands/13U_ideal.mol2", removeHs=False)
mod_ligand_methyl


# Get the atom we want to change - look at image to see we want to morph atom 59
atom = mod_ligand_methyl.GetAtomWithIdx(59)

atom.SetAtomicNum(6) # Change the atom from hydrogen to carbon
atom.SetNumExplicitHs(3) # Add 3 explicit hydrogens to the carbon

mod_ligand_methyl = Chem.RemoveAllHs(mod_ligand_methyl) # Remove the H's for viewing
mod_ligand_methyl





# Optimize new molecules and save
from rdkit.Chem import AllChem

mod_ligand_NH = Chem.AddHs(mod_ligand_N)

# Do a constrained embedding to keep the ligand in the same position
# this allows for the hydrogens to be added in reasonable locations, but keeps
# the heavy atoms in the same position
# See https://rdkit.org/docs/source/rdkit.Chem.AllChem.html#rdkit.Chem.AllChem.ConstrainedEmbed
constrained_mol = AllChem.ConstrainedEmbed(mod_ligand_NH, mod_ligand_N, useTethers=True)
constrained_mol


# Perform geometry optimization
opt_N = AllChem.MMFFOptimizeMolecule(mod_ligand_NH)
mod_ligand_NH


# Repeat process on methyl ligand

mod_ligand_methylH = Chem.AddHs(mod_ligand_methyl)

constrained_mol = AllChem.ConstrainedEmbed(mod_ligand_methylH, mod_ligand_methyl, useTethers=True)
constrained_mol


opt_methyl = AllChem.MMFFOptimizeMoleculeConfs(mod_ligand_methylH)
Chem.RemoveAllHs(mod_ligand_methylH)


# save to new files
import os

# make modified ligand directory
os.makedirs("ligands_modified", exist_ok=True)

# save modified ligands xyz

Chem.MolToXYZFile(mod_ligand_NH, 'ligands_modified/13U_modified_N.xyz')

Chem.MolToXYZFile(mod_ligand_methylH, 'ligands_modified/13U_modified_methyl.xyz')



