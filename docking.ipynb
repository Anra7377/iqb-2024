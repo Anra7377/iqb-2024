{
 "cells": [
  {
   "cell_type": "markdown",
   "metadata": {},
   "source": [
    "# Docking\n",
    "\n",
    "We are now on the third of our four notebooks. Just for review, here is a list and a description of each notebook that will enable us to review what we have done so far and to anticipate where we are headed. \n",
    "\n",
    "1. *EC_class_ligands_search.ipynb*. In the first notebook, we will use scripts to download ligands that are bound to trypsin structures found in the [RCSB Protein Data Bank](https://rcsb.org). \n",
    "1. *molecule_manipulation.ipynb*. In the second notebook, we will convert one of the ligands into a format called pdbqt that can be used for docking. We will also make two modified versions of the same ligand in pdbqt format. \n",
    "1. *docking.ipynb*. In the third notebook, we will conduct the docking exercise using a Python library called vina, which is based on AutoDock Vina.\n",
    "1. *binding_site_investigation*. In the fourth notebook, we will visually explore the results of our docking exercise.\n",
    "\n",
    "In a docking exercise, we are asking the computer to predict how well a small molecule or ligand will bind to a large molecule. In this notebook we will explore the binding of the three small molecules we prepared in [last notebook](molecule_manipulation.ipynb) to an experimentally determined trypsin structure from *Bos taurus*, the cow. The structure, [PDB entry 2ZQ2]([RCSB Protein Data Bank](https://rcsb.org), can be found in the [RCSB Protein Data Bank](https://rcsb.org). \n",
    "\n",
    "Learning Goals\n",
    "\n",
    "* To see how a ligand binds to a protein\n",
    "* To understand the limitations of a docking study\n",
    "\n",
    "Learning Objectives\n",
    "\n",
    "* To import and use the libraries listed below to conduct the docking study\n",
    "* To understand the role of the functions in each of these libraries in the docking process\n",
    "* To generate and interpret the quantitative docking results for each of the ligands\n",
    "\n",
    "Libraries\n",
    "\n",
    "\n",
    "| Library    | Description     |\n",
    "| :-----------: | :------------ |\n",
    "| os | operating system library that enables Jupyter notebooks to run in Mac OS, Windows and Linux |\n",
    "| Bio | Biopython library that is rich in functions for parsing and manipulating proteins sequences and structures |\n",
    "| MDAnalysis | a Python library for analyzing trajectories in molecular dynamics simulations |\n",
    "| openbabel | A Python library for converting 3D structures among a variety of formats |\n",
    "| vina | A Python implementation of Autodock Vina for docking ligands on macromolecules |\n"
   ]
  },
  {
   "cell_type": "code",
   "execution_count": 1,
   "metadata": {},
   "outputs": [
    {
     "name": "stdout",
     "output_type": "stream",
     "text": [
      "Structure exists: 'docking/pdb2zq2.ent' \n"
     ]
    },
    {
     "data": {
      "text/plain": [
       "'docking/pdb2zq2.ent'"
      ]
     },
     "execution_count": 1,
     "metadata": {},
     "output_type": "execute_result"
    }
   ],
   "source": [
    "import os\n",
    "from Bio.PDB import PDBList\n",
    "\n",
    "# make a directory for docking files\n",
    "os.makedirs(\"pdb\", exist_ok=True)\n",
    "\n",
    "pdb_id = \"2zq2\"\n",
    "\n",
    "pdb_list = PDBList() \n",
    "pdb_list.retrieve_pdb_file(pdb_id, pdir='docking', file_format='pdb')"
   ]
  },
  {
   "cell_type": "code",
   "execution_count": 2,
   "metadata": {},
   "outputs": [
    {
     "name": "stderr",
     "output_type": "stream",
     "text": [
      "/home/janash/miniconda3/envs/iqb-2024/lib/python3.11/site-packages/MDAnalysis/coordinates/PDB.py:1153: UserWarning: Found no information for attr: 'formalcharges' Using default value of '0'\n",
      "  warnings.warn(\"Found no information for attr: '{}'\"\n"
     ]
    }
   ],
   "source": [
    "# use mdanalysis to isolate the protein\n",
    "\n",
    "import MDAnalysis as mda\n",
    "\n",
    "# Load into MDA universe\n",
    "u = mda.Universe(f\"docking/pdb{pdb_id}.ent\")\n",
    "\n",
    "# Select protein atoms\n",
    "protein = u.select_atoms(\"protein\")\n",
    "\n",
    "# Write protein to new PDB file\n",
    "protein.write(f\"docking/{pdb_id}_protein.pdb\")\n"
   ]
  },
  {
   "cell_type": "code",
   "execution_count": 3,
   "metadata": {},
   "outputs": [],
   "source": [
    "# \"Fix\" protein with openbabel\n",
    "from openbabel import pybel\n",
    "\n",
    "pybel_read = pybel.readfile(\"pdb\", f\"docking/{pdb_id}_protein.pdb\")"
   ]
  },
  {
   "cell_type": "code",
   "execution_count": 4,
   "metadata": {},
   "outputs": [
    {
     "name": "stderr",
     "output_type": "stream",
     "text": [
      "==============================\n",
      "*** Open Babel Warning  in PerceiveBondOrders\n",
      "  Failed to kekulize aromatic bonds in OBMol::PerceiveBondOrders (title is docking/2zq2_protein.pdb)\n",
      "\n"
     ]
    }
   ],
   "source": [
    "for structure in pybel_read:\n",
    "    protein = structure\n",
    "    \n",
    "protein.OBMol.CorrectForPH(7.4)\n",
    "protein.addh()"
   ]
  },
  {
   "cell_type": "code",
   "execution_count": 5,
   "metadata": {},
   "outputs": [],
   "source": [
    "# calculate Gasteiger partial charge for each atom.\n",
    "for atom in protein.atoms:\n",
    "    charge = atom.OBAtom.GetPartialCharge()\n",
    "\n",
    "# Write protein to new PQR file\n",
    "protein.write(\"pdbqt\", f\"docking/{pdb_id}.pdbqt\", overwrite=True, opt={\"r\": None})"
   ]
  },
  {
   "cell_type": "code",
   "execution_count": 6,
   "metadata": {},
   "outputs": [],
   "source": [
    "# Now we will identify the binding site\n",
    "ligand_mda = u.select_atoms(\"resname 13U\")"
   ]
  },
  {
   "cell_type": "code",
   "execution_count": 7,
   "metadata": {},
   "outputs": [
    {
     "name": "stdout",
     "output_type": "stream",
     "text": [
      "[18.3068333  -8.06558332 10.638     ]\n"
     ]
    }
   ],
   "source": [
    "# find the center of the ligand\n",
    "pocket_center = ligand_mda.center_of_geometry()\n",
    "print(pocket_center)"
   ]
  },
  {
   "cell_type": "code",
   "execution_count": 8,
   "metadata": {},
   "outputs": [
    {
     "data": {
      "text/plain": [
       "array([ 9.161999, 12.002001,  8.903   ], dtype=float32)"
      ]
     },
     "execution_count": 8,
     "metadata": {},
     "output_type": "execute_result"
    }
   ],
   "source": [
    "# compute min and max coordinates of the ligand\n",
    "ligand_box = ligand_mda.positions.max(axis=0) - ligand_mda.positions.min(axis=0)\n",
    "ligand_box"
   ]
  },
  {
   "cell_type": "code",
   "execution_count": 9,
   "metadata": {},
   "outputs": [],
   "source": [
    "# Using the above to steps, we have the center of geometry of our \n",
    "# starting ligand and the size of the box that can contain it."
   ]
  },
  {
   "cell_type": "code",
   "execution_count": 10,
   "metadata": {},
   "outputs": [],
   "source": [
    "# Before docking, we need to prepare the ligands we will dock.\n",
    "#  we need to make sure they are adjusted for ph and have partial \n",
    "# charges assigned, just like the protein\n",
    "\n",
    "filenames = [\"ligands/13U_ideal.mol2\", \n",
    "             \"ligands_modified/13U_modified_N.xyz\", \n",
    "             \"ligands_modified/13U_modified_methyl.xyz\"]\n",
    "\n",
    "for file in filenames:\n",
    "\n",
    "    file_base = os.path.basename(file)\n",
    "\n",
    "    starting_name = file_base.split(\".\")[0]\n",
    "    file_type = file_base.split(\".\")[-1]\n",
    "\n",
    "    ligand = list(pybel.readfile(file_type, file))[0]\n",
    "    ligand.OBMol.CorrectForPH(7.4)\n",
    "    ligand.addh()\n",
    "\n",
    "    for atom in ligand.atoms:\n",
    "        charge = atom.OBAtom.GetPartialCharge()\n",
    "\n",
    "    ligand.write(\"pdbqt\", f\"docking/{starting_name}.pdbqt\", overwrite=True)"
   ]
  },
  {
   "cell_type": "code",
   "execution_count": 11,
   "metadata": {},
   "outputs": [],
   "source": [
    "# now we are ready for docking\n",
    "\n",
    "from vina import Vina"
   ]
  },
  {
   "cell_type": "code",
   "execution_count": 12,
   "metadata": {},
   "outputs": [],
   "source": [
    "v = Vina(sf_name=\"vina\")\n",
    "v.set_receptor(f\"docking/{pdb_id}.pdbqt\")\n",
    "v.set_ligand_from_file(f\"docking/13U_ideal.pdbqt\")"
   ]
  },
  {
   "cell_type": "code",
   "execution_count": 13,
   "metadata": {},
   "outputs": [],
   "source": [
    "pocket_center = [ float(x) for x in pocket_center ]\n",
    "ligand_box = [ float(x) for x in ligand_box ]"
   ]
  },
  {
   "cell_type": "code",
   "execution_count": 14,
   "metadata": {},
   "outputs": [
    {
     "name": "stdout",
     "output_type": "stream",
     "text": [
      "Computing Vina grid ... done.\n"
     ]
    }
   ],
   "source": [
    "v.compute_vina_maps(center=pocket_center, box_size=ligand_box)"
   ]
  },
  {
   "cell_type": "code",
   "execution_count": 15,
   "metadata": {},
   "outputs": [
    {
     "name": "stdout",
     "output_type": "stream",
     "text": [
      "Performing docking (random seed: -1110203316) ... "
     ]
    },
    {
     "name": "stderr",
     "output_type": "stream",
     "text": [
      "WARNING: At low exhaustiveness, it may be impossible to utilize all CPUs.\n"
     ]
    },
    {
     "name": "stdout",
     "output_type": "stream",
     "text": [
      "\n",
      "0%   10   20   30   40   50   60   70   80   90   100%\n",
      "|----|----|----|----|----|----|----|----|----|----|\n",
      "***************************************************\n",
      "\n",
      "mode |   affinity | dist from best mode\n",
      "     | (kcal/mol) | rmsd l.b.| rmsd u.b.\n",
      "-----+------------+----------+----------\n",
      "   1       -7.629          0          0\n",
      "   2       -6.889      1.415      2.551\n",
      "   3        -6.39       1.33      2.219\n",
      "   4       -5.668      2.017      2.888\n",
      "   5        -5.57      2.675      4.017\n"
     ]
    }
   ],
   "source": [
    "v.dock(exhaustiveness=5, n_poses=5)"
   ]
  },
  {
   "cell_type": "code",
   "execution_count": 16,
   "metadata": {},
   "outputs": [],
   "source": [
    "v.write_poses('vina_out_original.pdbqt', n_poses=5, overwrite=True)"
   ]
  },
  {
   "cell_type": "code",
   "execution_count": 17,
   "metadata": {},
   "outputs": [
    {
     "name": "stdout",
     "output_type": "stream",
     "text": [
      "Computing Vina grid ... done.\n",
      "Performing docking (random seed: -683413570) ... "
     ]
    },
    {
     "name": "stderr",
     "output_type": "stream",
     "text": [
      "WARNING: At low exhaustiveness, it may be impossible to utilize all CPUs.\n"
     ]
    },
    {
     "name": "stdout",
     "output_type": "stream",
     "text": [
      "\n",
      "0%   10   20   30   40   50   60   70   80   90   100%\n",
      "|----|----|----|----|----|----|----|----|----|----|\n",
      "***************************************************\n",
      "\n",
      "mode |   affinity | dist from best mode\n",
      "     | (kcal/mol) | rmsd l.b.| rmsd u.b.\n",
      "-----+------------+----------+----------\n",
      "   1       -8.084          0          0\n",
      "   2        -6.52      2.262      7.885\n",
      "   3        -6.01      2.379      4.233\n",
      "   4       -5.948      2.315      3.403\n",
      "   5       -5.067       3.02      6.468\n"
     ]
    }
   ],
   "source": [
    "v = Vina(sf_name=\"vina\")\n",
    "v.set_receptor(f\"docking/{pdb_id}.pdbqt\")\n",
    "v.set_ligand_from_file(f\"docking/13U_modified_methyl.pdbqt\")\n",
    "v.compute_vina_maps(center=pocket_center, box_size=ligand_box)\n",
    "v.dock(exhaustiveness=5, n_poses=5)"
   ]
  },
  {
   "cell_type": "code",
   "execution_count": 18,
   "metadata": {},
   "outputs": [],
   "source": [
    "v.write_poses('vina_out_methyl.pdbqt', n_poses=5, overwrite=True)"
   ]
  },
  {
   "cell_type": "code",
   "execution_count": 19,
   "metadata": {},
   "outputs": [
    {
     "name": "stdout",
     "output_type": "stream",
     "text": [
      "Computing Vina grid ... done.\n",
      "Performing docking (random seed: 618571335) ... \n",
      "0%   10   20   30   40   50   60   70   80   90   100%\n",
      "|----|----|----|----|----|----|----|----|----|----|\n",
      "***************************************************\n",
      "\n",
      "mode |   affinity | dist from best mode\n",
      "     | (kcal/mol) | rmsd l.b.| rmsd u.b.\n",
      "-----+------------+----------+----------\n",
      "   1        -6.23          0          0\n",
      "   2       -4.949      2.464      6.921\n",
      "   3       -4.935      2.973      7.578\n",
      "   4       -4.914      2.708      3.839\n",
      "   5       -4.565      1.926      2.481\n"
     ]
    },
    {
     "name": "stderr",
     "output_type": "stream",
     "text": [
      "WARNING: At low exhaustiveness, it may be impossible to utilize all CPUs.\n"
     ]
    }
   ],
   "source": [
    "v = Vina(sf_name=\"vina\")\n",
    "v.set_receptor(f\"docking/{pdb_id}.pdbqt\")\n",
    "v.set_ligand_from_file(f\"docking/13U_modified_N.pdbqt\")\n",
    "v.compute_vina_maps(center=pocket_center, box_size=ligand_box)\n",
    "v.dock(exhaustiveness=5, n_poses=5)"
   ]
  },
  {
   "cell_type": "code",
   "execution_count": 20,
   "metadata": {},
   "outputs": [],
   "source": [
    "v.write_poses('vina_out_N.pdbqt', n_poses=5, overwrite=True)"
   ]
  },
  {
   "cell_type": "code",
   "execution_count": 22,
   "metadata": {},
   "outputs": [],
   "source": [
    "from openbabel import openbabel\n",
    "\n",
    "def convert_pdbqt_to_pdb(input_file, output_file):\n",
    "    obConversion = openbabel.OBConversion()\n",
    "    obConversion.SetInAndOutFormats(\"pdbqt\", \"pdb\")\n",
    "\n",
    "    mol = openbabel.OBMol()\n",
    "    if not obConversion.ReadFile(mol, input_file):\n",
    "        raise ValueError(f\"Could not read file {input_file}\")\n",
    "\n",
    "    if not obConversion.WriteFile(mol, output_file):\n",
    "        raise ValueError(f\"Could not write file {output_file}\")\n",
    "\n",
    "    print(f\"Successfully converted {input_file} to {output_file}\")\n"
   ]
  },
  {
   "cell_type": "code",
   "execution_count": 23,
   "metadata": {},
   "outputs": [
    {
     "name": "stdout",
     "output_type": "stream",
     "text": [
      "Successfully converted vina_out_original.pdbqt to vina_out_original.pdb\n"
     ]
    }
   ],
   "source": [
    "# Example usage\n",
    "input_file = \"vina_out_original.pdbqt\"\n",
    "output_file = \"vina_out_original.pdb\"\n",
    "convert_pdbqt_to_pdb(input_file, output_file)"
   ]
  },
  {
   "cell_type": "code",
   "execution_count": 24,
   "metadata": {},
   "outputs": [
    {
     "name": "stdout",
     "output_type": "stream",
     "text": [
      "Successfully converted vina_out_methyl.pdbqt to vina_out_methyl.pdb\n"
     ]
    }
   ],
   "source": [
    "# Example usage\n",
    "input_file = \"vina_out_methyl.pdbqt\"\n",
    "output_file = \"vina_out_methyl.pdb\"\n",
    "convert_pdbqt_to_pdb(input_file, output_file)"
   ]
  },
  {
   "cell_type": "code",
   "execution_count": null,
   "metadata": {},
   "outputs": [],
   "source": []
  }
 ],
 "metadata": {
  "kernelspec": {
   "display_name": "Python 3 (ipykernel)",
   "language": "python",
   "name": "python3"
  },
  "language_info": {
   "codemirror_mode": {
    "name": "ipython",
    "version": 3
   },
   "file_extension": ".py",
   "mimetype": "text/x-python",
   "name": "python",
   "nbconvert_exporter": "python",
   "pygments_lexer": "ipython3",
   "version": "3.11.9"
  }
 },
 "nbformat": 4,
 "nbformat_minor": 4
}
