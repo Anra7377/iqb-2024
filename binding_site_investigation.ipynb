{
 "cells": [
  {
   "cell_type": "markdown",
   "id": "a45ec3bc",
   "metadata": {},
   "source": [
    "# Exploring the Docking Results\n",
    "The last step in our docking crash course is to view the results generated in [docking.ipynb](docking.ipynb). The hard (and time-consuming) work is done and we simply need to inspect our work and see what we can learn about docking three slightly different ligands to trypsin (EC 3.4.21.4) from *Bos taurus*.\n",
    "\n",
    "Learning Goals\n",
    "\n",
    "* To integrate quantitatve docking results with visualization of those results\n",
    "* To gain the confidence to conduct a docking study with a protein of interest in a teaching, research or industrial setting\n",
    "\n",
    "Learning Objectives\n",
    "\n",
    "* To import the required libraries and use proper syntax in calling functions to visualize ligands bound to trypsin\n",
    "* To manipulate the appearance of the ligand bound to trypsin\n",
    "\n",
    "Libraries\n",
    "\n",
    "| Library    | Description     |\n",
    "| :-----------: | :------------ |\n",
    "| nglview | molecular visualization library |\n",
    "| MDAnalysis | a Python library for analyzing trajectories in molecular dynamics simulations |\n"
   ]
  },
  {
   "cell_type": "code",
   "execution_count": 1,
   "id": "5d132fc8-3afc-405b-ace0-f2fefc7f2350",
   "metadata": {},
   "outputs": [
    {
     "data": {
      "application/vnd.jupyter.widget-view+json": {
       "model_id": "994f2fea03b44e5d8066e2e313e510d8",
       "version_major": 2,
       "version_minor": 0
      },
      "text/plain": []
     },
     "metadata": {},
     "output_type": "display_data"
    }
   ],
   "source": [
    "import nglview as nv\n",
    "\n",
    "import MDAnalysis as mda\n",
    "\n",
    "pdb_id = \"2zq2\"\n",
    "\n",
    "u = mda.Universe(f\"pdb/pdb{pdb_id}.ent\")\n",
    "\n",
    "protein = u.select_atoms(\"protein\")\n",
    "ligand_A = u.select_atoms(\"resname 13U and altLoc A\")\n",
    "ligand_B = u.select_atoms(\"resname 13U and altLoc B\")"
   ]
  },
  {
   "cell_type": "code",
   "execution_count": 3,
   "id": "e8e8118d-fac5-484a-9277-b2aafce86a1c",
   "metadata": {
    "scrolled": true
   },
   "outputs": [
    {
     "data": {
      "application/vnd.jupyter.widget-view+json": {
       "model_id": "f680a9de8b9f4126af6906f4ecf2ac87",
       "version_major": 2,
       "version_minor": 0
      },
      "text/plain": [
       "NGLWidget()"
      ]
     },
     "metadata": {},
     "output_type": "display_data"
    }
   ],
   "source": [
    "view = nv.show_mdanalysis(protein)\n",
    "view.clear_representations()\n",
    "view.add_representation(\"surface\", colorScheme=\"hydrophobicity\")\n",
    "view.add_component(ligand_A)\n",
    "view"
   ]
  },
  {
   "cell_type": "code",
   "execution_count": 4,
   "id": "368d550e-9c09-4614-95e9-2e8318ee9e06",
   "metadata": {},
   "outputs": [
    {
     "data": {
      "application/vnd.jupyter.widget-view+json": {
       "model_id": "f0bc88c130924f4aaf51755fe5f5f43c",
       "version_major": 2,
       "version_minor": 0
      },
      "text/plain": [
       "NGLWidget()"
      ]
     },
     "metadata": {},
     "output_type": "display_data"
    }
   ],
   "source": [
    "view = nv.show_mdanalysis(protein)\n",
    "view.clear_representations()\n",
    "view.add_representation(\"surface\", colorScheme=\"hydrophobicity\")\n",
    "view.add_component(ligand_B)\n",
    "view"
   ]
  },
  {
   "cell_type": "code",
   "execution_count": 7,
   "id": "dbab06f3-dfb7-4bef-9272-03a751c034da",
   "metadata": {},
   "outputs": [
    {
     "data": {
      "text/plain": [
       "<AtomGroup with 30 atoms>"
      ]
     },
     "execution_count": 7,
     "metadata": {},
     "output_type": "execute_result"
    }
   ],
   "source": [
    "ligand_A\n"
   ]
  },
  {
   "cell_type": "code",
   "execution_count": 8,
   "id": "adce9ed2-6b51-4888-af10-b300a7f07f3b",
   "metadata": {},
   "outputs": [
    {
     "data": {
      "text/plain": [
       "<AtomGroup with 30 atoms>"
      ]
     },
     "execution_count": 8,
     "metadata": {},
     "output_type": "execute_result"
    }
   ],
   "source": [
    "ligand_B"
   ]
  },
  {
   "cell_type": "code",
   "execution_count": null,
   "id": "168dc02b-2278-4f9c-93bc-fa6f4ae48db8",
   "metadata": {},
   "outputs": [],
   "source": []
  }
 ],
 "metadata": {
  "kernelspec": {
   "display_name": "Python 3 (ipykernel)",
   "language": "python",
   "name": "python3"
  },
  "language_info": {
   "codemirror_mode": {
    "name": "ipython",
    "version": 3
   },
   "file_extension": ".py",
   "mimetype": "text/x-python",
   "name": "python",
   "nbconvert_exporter": "python",
   "pygments_lexer": "ipython3",
   "version": "3.11.9"
  }
 },
 "nbformat": 4,
 "nbformat_minor": 5
}
