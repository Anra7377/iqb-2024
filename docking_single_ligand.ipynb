{
 "cells": [
  {
   "cell_type": "markdown",
   "metadata": {},
   "source": [
    "# Docking with AutoDock Vina\n",
    "\n",
    "## Preparing for Docking: Writing PDBQT Files\n",
    "\n",
    "AutoDock Vina needs a special file type called a PDBQT.\n",
    "We will prepare our PDBQT for our protein using OpenBabel.\n",
    "\n",
    "The following code block creates a folder for our docking structures, then uses OpenBabel to read in our\n",
    "protein structure with hydrogens. **Note** This is the PDB file that was output from PDB2PQR.\n",
    "If you do not have that file, please complete the `binding_site_investigation` notebook.\n",
    "After we read in the file, we make sure the atoms all have partial charges assigned, then write \n",
    "the PDBQT file.\n",
    "\n",
    "If you didn't complete that notebook, add the following to a cell before you continue with the rest of the notebook.\n",
    "\n",
    "```python\n",
    "import os # for making directories\n",
    "import requests\n",
    "\n",
    "import MDAnalysis as mda\n",
    "\n",
    "# make a directory for pdb files\n",
    "os.makedirs(\"structures\", exist_ok=True)\n",
    "\n",
    "pdb_id = \"2zq2\" # trypsin PDB file with ligand bound\n",
    "\n",
    "pdb_request = requests.get(f\"https://files.rcsb.org/download/{pdb_id}.pdb\")\n",
    "pdb_request.status_code\n",
    "\n",
    "with open(f\"structures/{pdb_id}.pdb\", \"w+\") as f:\n",
    "    f.write(pdb_request.text)\n",
    "\n",
    "# isolate the protein using MDAnalysis\n",
    "u = mda.Universe(f\"structures/{pdb_id}.pdb\")\n",
    "protein = u.select_atoms(\"protein\")\n",
    "protein.write(f\"structures/protein_{pdb_id}.pdb\")\n",
    "\n",
    "! pdb2pqr --pdb-output=structures/protein_h.pdb --pH=7.4 structures/protein_2zq2.pdb structures/protein_2zq2.pqr\n",
    "```"
   ]
  },
  {
   "cell_type": "code",
   "execution_count": null,
   "metadata": {},
   "outputs": [],
   "source": [
    "import os\n",
    "from openbabel import pybel\n",
    "\n",
    "os.makedirs(\"docking_structures\", exist_ok=True)\n",
    "\n",
    "protein = next(pybel.readfile(\"pdb\", \"structures/protein_h.pdb\"))\n",
    "for atom in protein.atoms:\n",
    "    charge = atom.OBAtom.GetPartialCharge()\n",
    "\n",
    "# Write protein to new PQDQT file\n",
    "protein.write(\"pdbqt\", f\"docking_structures/protein_h.pdbqt\", overwrite=True, opt={\"r\": None})"
   ]
  },
  {
   "cell_type": "markdown",
   "metadata": {},
   "source": [
    "When preparing small molecule PDBQT files, you could have also chosen to use OpenBabel.\n",
    "However, we are going to use a special program for small molecules and docking called [meeko](https://github.com/forlilab/Meeko).\n",
    "We choose to use meeko for our ligands because it will allow us to more easily visualize our results later.\n",
    "\n",
    "We are using the command line for meeko, similar to PDB2PQR. \n",
    "You could also choose to use the Python API for this, but the command line is simpler for common tasks like converting an SDF to a PDBQT.\n",
    "\n",
    "In the cell below, we execute a command that converts our file`ligands_to_dock/13U.sdf` in that we prepared in the `molecule_manipulation` notebook to a PDBQT file.\n",
    "We are saving this PDBQT file in a folder called `docking_structures`."
   ]
  },
  {
   "cell_type": "code",
   "execution_count": null,
   "metadata": {},
   "outputs": [],
   "source": [
    "# Use meeko to prepare small molecules - using meeko helps us visualize them later.\n",
    "! mk_prepare_ligand.py -i ligands_to_dock/13U.sdf -o docking_structures/13U.pdbqt"
   ]
  },
  {
   "cell_type": "markdown",
   "metadata": {},
   "source": [
    "## Preparing for Docking: Defining Ligand Box\n",
    "\n",
    "When we dock our ligands to our protein, we will want to define the binding pocket and the binding box.\n",
    "For this example, we will load in our structure from the PDB that we visualized in `binding_site_investigation`.\n",
    "\n",
    "We will use MDAnalysis tools to find the center of the ligand, as well as its min and maximum coordinates in all directions in order to define our target ligand box for docking."
   ]
  },
  {
   "cell_type": "code",
   "execution_count": null,
   "metadata": {},
   "outputs": [],
   "source": [
    "# find the center of the ligand\n",
    "import MDAnalysis as mda\n",
    "\n",
    "original_structure = mda.Universe(\"structures/2zq2.pdb\")\n",
    "ligand_mda = original_structure.select_atoms(\"resname 13U\")\n",
    "\n",
    "# Get the center of the ligand as the \"pocket center\"\n",
    "pocket_center = ligand_mda.center_of_geometry()\n",
    "print(pocket_center)"
   ]
  },
  {
   "cell_type": "code",
   "execution_count": null,
   "metadata": {},
   "outputs": [],
   "source": [
    "# compute min and max coordinates of the ligand\n",
    "# take the ligand box to be the difference between the max and min in each direction.\n",
    "ligand_box = ligand_mda.positions.max(axis=0) - ligand_mda.positions.min(axis=0)\n",
    "ligand_box"
   ]
  },
  {
   "cell_type": "markdown",
   "metadata": {},
   "source": [
    "The `pocket_center` and `ligand_box` variables are NumPy arrays.\n",
    "However, AutoDock Vina expects them to be lists.\n",
    "We convert them to lists in the cell below."
   ]
  },
  {
   "cell_type": "code",
   "execution_count": null,
   "metadata": {},
   "outputs": [],
   "source": [
    "pocket_center = pocket_center.tolist()\n",
    "ligand_box = ligand_box.tolist()"
   ]
  },
  {
   "cell_type": "markdown",
   "metadata": {},
   "source": [
    "## Docking Ligands with AutoDock Vina\n",
    "\n",
    "Now that we have PDBQT files of our protein and ligand and have defined our docking box, we are ready to perform the actual docking.\n",
    "Before docking, we will make a directory to store our results."
   ]
  },
  {
   "cell_type": "code",
   "execution_count": null,
   "metadata": {},
   "outputs": [],
   "source": [
    "# make a directory to store our results\n",
    "import os\n",
    "\n",
    "os.makedirs(\"docking_results\", exist_ok=True)"
   ]
  },
  {
   "cell_type": "markdown",
   "metadata": {},
   "source": [
    "We will dock using the AutoDock Vina Python API.\n",
    "First, we import `Vina` from `vina`.\n",
    "We start docking with the line `v = Vina(sf_name=\"vina\")`. \n",
    "This creates a docking calculation, `v`, and sets the scoring function to the `vina` scoring function."
   ]
  },
  {
   "cell_type": "code",
   "execution_count": null,
   "metadata": {},
   "outputs": [],
   "source": [
    "from vina import Vina\n",
    "ligand = \"13U\"\n",
    "\n",
    "v = Vina(sf_name=\"vina\")\n",
    "v.set_receptor(f\"docking_structures/protein_h.pdbqt\")\n",
    "v.set_ligand_from_file(f\"docking_structures/{ligand}.pdbqt\")\n",
    "v.compute_vina_maps(center=pocket_center, box_size=ligand_box)\n",
    "v.dock(exhaustiveness=5, n_poses=5)\n",
    "v.write_poses(f\"docking_results/{ligand}.pdbqt\", n_poses=5, overwrite=True)"
   ]
  },
  {
   "cell_type": "markdown",
   "metadata": {},
   "source": [
    "We can see the energies of the calculated poses by calling `energies` on the docking calculation variable.\n",
    "According to the Vina documentaiton, the rows correspond to the poses, while columns correspond to different energy types.\n",
    "The types of energies in the columns are `[\"total\", \"inter\", \"intra\", \"torsions\", \"intra best pose\"]`."
   ]
  },
  {
   "cell_type": "code",
   "execution_count": null,
   "metadata": {},
   "outputs": [],
   "source": [
    "v.energies()"
   ]
  },
  {
   "cell_type": "markdown",
   "metadata": {},
   "source": [
    "You might wish to save these energies to return to them later. \n",
    "The cell below creates a pandas dataframe and saves the energies as a comma-separated-value (CSV) file."
   ]
  },
  {
   "cell_type": "code",
   "execution_count": null,
   "metadata": {},
   "outputs": [],
   "source": [
    "import pandas as pd\n",
    "\n",
    "\n",
    "# These are the columns for the types of energies according to AutoDock Vina docs.\n",
    "column_names = [\"total\", \"inter\", \"intra\", \"torsions\", \"intra best pose\"]\n",
    "\n",
    "df = pd.DataFrame(v.energies(), columns=column_names)\n",
    "df.head()"
   ]
  },
  {
   "cell_type": "code",
   "execution_count": null,
   "metadata": {},
   "outputs": [],
   "source": [
    "# Save the calculated energies from docking to a CSV file\n",
    "df.to_csv(\"docking_results/13U_energies.csv\", index=False)"
   ]
  },
  {
   "cell_type": "markdown",
   "metadata": {},
   "source": [
    "## Analyzing Docking Results\n",
    "\n",
    "After performing the docking simulation and saving the energies, you might wish to visualize the poses.\n",
    "\n",
    "In the step above, we wrote the poses to the file `docking_results/13U.pdbqt`. \n",
    "AutoDock Vina only writes in this file, but in order to visualize your results, you'll want them in a more standard file format.\n",
    "We will use meeko again to convert our poses to an SDF.\n",
    "Note that meeko will only convert pdbqt files if it prepared the input docking files.\n",
    "That's why we had to use it above instead of OpenBabel.\n",
    "\n",
    "Again, we use a command line script to convert out poses."
   ]
  },
  {
   "cell_type": "code",
   "execution_count": null,
   "metadata": {},
   "outputs": [],
   "source": [
    "! mk_export.py docking_results/13U.pdbqt -o docking_results/13U.sdf"
   ]
  },
  {
   "cell_type": "markdown",
   "metadata": {},
   "source": [
    "After converting to SDF, we can again visualize our results with ProLIF."
   ]
  },
  {
   "cell_type": "code",
   "execution_count": null,
   "metadata": {},
   "outputs": [],
   "source": [
    "import prolif as plf\n",
    "import MDAnalysis as mda"
   ]
  },
  {
   "cell_type": "code",
   "execution_count": null,
   "metadata": {},
   "outputs": [],
   "source": [
    "protein = mda.Universe(\"structures/protein_h.pdb\")\n",
    "protein_plf = plf.Molecule.from_mda(protein)\n",
    "\n",
    "poses_plf = plf.sdf_supplier(\"docking_results/13U.sdf\")"
   ]
  },
  {
   "cell_type": "code",
   "execution_count": null,
   "metadata": {},
   "outputs": [],
   "source": [
    "fp = plf.Fingerprint()\n",
    "# run on your poses\n",
    "fp.run_from_iterable(poses_plf, protein_plf)"
   ]
  },
  {
   "cell_type": "code",
   "execution_count": null,
   "metadata": {},
   "outputs": [],
   "source": [
    "fp.plot_barcode(xlabel=\"Pose\")"
   ]
  },
  {
   "cell_type": "code",
   "execution_count": null,
   "metadata": {},
   "outputs": [],
   "source": [
    "pose_index=1"
   ]
  },
  {
   "cell_type": "code",
   "execution_count": null,
   "metadata": {},
   "outputs": [],
   "source": [
    "fp.plot_lignetwork(poses_plf[pose_index])"
   ]
  },
  {
   "cell_type": "code",
   "execution_count": null,
   "metadata": {},
   "outputs": [],
   "source": [
    "view = fp.plot_3d(\n",
    "    poses_plf[pose_index], protein_plf, frame=pose_index, display_all=False\n",
    ")\n",
    "view"
   ]
  },
  {
   "cell_type": "markdown",
   "metadata": {},
   "source": [
    "## Exercise\n",
    "\n",
    "Dock one of the modified ligands"
   ]
  },
  {
   "cell_type": "code",
   "execution_count": null,
   "metadata": {},
   "outputs": [],
   "source": []
  }
 ],
 "metadata": {
  "kernelspec": {
   "display_name": "Python 3 (ipykernel)",
   "language": "python",
   "name": "python3"
  },
  "language_info": {
   "codemirror_mode": {
    "name": "ipython",
    "version": 3
   },
   "file_extension": ".py",
   "mimetype": "text/x-python",
   "name": "python",
   "nbconvert_exporter": "python",
   "pygments_lexer": "ipython3",
   "version": "3.11.9"
  }
 },
 "nbformat": 4,
 "nbformat_minor": 4
}
