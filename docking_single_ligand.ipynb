{
 "cells": [
  {
   "cell_type": "markdown",
   "metadata": {},
   "source": [
    "# Docking with AutoDock Vina\n",
    "\n",
    "<div class=\"alert alert-block alert-info\"> \n",
    "<h2>Overview</h2>\n",
    "    \n",
    "<strong>Questions</strong>\n",
    "\n",
    "* How can I dock a ligand using AutoDock Vina?\n",
    "* How can I visualize docking structures and ligand interactions?\n",
    "\n",
    "<strong>Learning Objectives</strong>\n",
    "\n",
    "* Learn how to define a ligand box for docking.\n",
    "* Use AutoDock Vina to dock ligands.\n",
    "* Analyze docking results with prolif.\n",
    "</div>\n",
    "\n",
    "In this notebook, we are going to dock the three ligands we generated previously notebook with [PDB entry 2zq2](https://www.rcsb.org/structure/2zq2), a trypsin structure from the cow *Bos taurus* that we retrieved and processed in the previous notebook.\n",
    "\n",
    "\n",
    "Molecular docking is a kind of calculation used to determine binding modes of small molecules to protein targets. It is commonly used in fields such as drug development to design molecules to bind to enzymes or proteins for a therapeutic effect.\n",
    "\n",
    "When a molecular docking calculation is performed, the docking software samples possible confirmations of a ligand in a target binding pocket. As these configurations are sampled, a score is calculated for each pose. There are many potential ways that poses might be scored, with the development of more accurate scoring functions being an area of active research and development. Types of scoring functions include physics based scoring functions (most often based on molecular forcefields), empirical scoring functions, machine learning scoring functions, etc. For a recent review of docking scoring functions, you can see [this publication](https://link.springer.com/article/10.1007/S12539-019-00327-W)\n",
    "\n",
    "\n",
    "### Libraries for the IQB workshop\n",
    "\n",
    "| Library         | abbreviation | Purpose |\n",
    "|:-------------|:---------:|:------------|\n",
    "| os           | N/A      | operating system functions - handling file paths and directories. |\n",
    "| MDAnalysis     | mda | molecular dynamics library - used for reading/writing files and selecting atoms |\n",
    "| vina | vina | AutoDock Vina software for Python and Jupyter notebooks |\n",
    "| prolif | plf | ProLIF (Protein-Ligand Interaction Fingerprints) - generates interaction fingerprints for complexes made of ligands, protein, DNA or RNA molecules\n"
   ]
  },
  {
   "cell_type": "markdown",
   "metadata": {},
   "source": [
    "## Preparing for Docking: Defining a Ligand Box\n",
    "\n",
    "When we dock our ligands to our protein, we will want to define the binding pocket and the binding box. Luckily MDAnalysis has tools that we can use to measure our molecule and define a binding box. \n",
    "The approach we will take in this notebook is to find the `center_of_geometry` of our ligand to define the center of our binding pocket."
   ]
  },
  {
   "cell_type": "code",
   "execution_count": null,
   "metadata": {},
   "outputs": [],
   "source": [
    "# find the center of the ligand\n",
    "import MDAnalysis as mda\n",
    "\n",
    "original_structure = mda.Universe(\"protein_structures/2zq2.pdb\")\n",
    "ligand_mda = original_structure.select_atoms(\"resname 13U\")\n",
    "\n",
    "# Get the center of the ligand as the \"pocket center\"\n",
    "pocket_center = ligand_mda.center_of_geometry()\n",
    "print(pocket_center)"
   ]
  },
  {
   "cell_type": "markdown",
   "metadata": {},
   "source": [
    "After defining the pocket center, we will define our ligand box.\n",
    "One simple approach to this is to subtract the min and max of the ligand positions in each dimension.\n",
    "In order to allow for ligand flexibility and potential interactions with nearby residues, we will add an additional five angstroms to each side of our box."
   ]
  },
  {
   "cell_type": "code",
   "execution_count": null,
   "metadata": {},
   "outputs": [],
   "source": [
    "# compute min and max coordinates of the ligand\n",
    "# take the ligand box to be the difference between the max and min in each direction.\n",
    "ligand_box = ligand_mda.positions.max(axis=0) - ligand_mda.positions.min(axis=0) + 5\n",
    "ligand_box"
   ]
  },
  {
   "cell_type": "markdown",
   "metadata": {},
   "source": [
    "The `pocket_center` and `ligand_box` variables are NumPy arrays.\n",
    "However, AutoDock Vina expects them to be lists.\n",
    "We convert them to lists in the cell below."
   ]
  },
  {
   "cell_type": "code",
   "execution_count": null,
   "metadata": {},
   "outputs": [],
   "source": [
    "pocket_center = pocket_center.tolist()\n",
    "ligand_box = ligand_box.tolist()"
   ]
  },
  {
   "cell_type": "markdown",
   "metadata": {},
   "source": [
    "## Docking Ligands with AutoDock Vina\n",
    "\n",
    "Now that we have PDBQT files of our protein and ligand and have defined our docking box, we are ready to perform the actual docking.\n",
    "Before docking, we will make a directory to store our results."
   ]
  },
  {
   "cell_type": "code",
   "execution_count": null,
   "metadata": {},
   "outputs": [],
   "source": [
    "# make a directory to store our results\n",
    "import os\n",
    "\n",
    "pdb_id = \"2zq2\"\n",
    "\n",
    "os.makedirs(\"docking_results\", exist_ok=True)"
   ]
  },
  {
   "cell_type": "markdown",
   "metadata": {},
   "source": [
    "We will dock using the AutoDock Vina Python API.\n",
    "First, we import `Vina` from `vina`.\n",
    "We start docking with the line `v = Vina(sf_name=\"vina\")`. \n",
    "This creates a docking calculation, `v`, and sets the scoring function to the `vina` scoring function.\n",
    "\n",
    "<div class=\"alert alert-block alert-success\">\n",
    "<strong>Scoring Functions in AutoDock Vina</strong>\n",
    "\n",
    "* Vina (`vina`): `vina` is an empirical scoring function. Binding energy is predicted as the sum of pairwise atomic interactions. It includes terms for hydrogen bonds, hydrophobic interactions, and steric clashes. The parameters for this scoring function were empirically derived from fitting data available in the PDBbind database. You can read more in the [original publication](https://www.ncbi.nlm.nih.gov/pmc/articles/PMC3041641/), or in the [Vinardo paper](https://www.ncbi.nlm.nih.gov/pmc/articles/PMC4865195/)\n",
    "* Vinardo (`vinardo`): Vinaro stands for \"Vina RaDii Optimized\". It was developed to improve the scoring by adjusting atom radii and reparameterizing the empirical terms based on the PDBBIND 2013 database. You can read more in the [Vinardo paper](https://www.ncbi.nlm.nih.gov/pmc/articles/PMC4865195/).\n",
    "* AutoDock4 (`ad4`):  uses a physics-based model and is the most computationally intensive of the available scores. The `ad4` score requires the definition of a flexible receptor, so it won't work with the PDBQT we have prepared. If you are interested in flexible docking, see [the tutorial from AutoDock Vina](https://autodock-vina.readthedocs.io/en/latest/docking_flexible.html). <strong>If you try to use the `ad4` scoring function on a receptor that was not prepared to be a flexible receptor, your notebook kernel will crash.</strong>\n",
    "\n",
    "</div>"
   ]
  },
  {
   "cell_type": "code",
   "execution_count": null,
   "metadata": {},
   "outputs": [],
   "source": [
    "from vina import Vina\n",
    "ligand = \"13U\"\n",
    "\n",
    "v = Vina(sf_name=\"vina\")"
   ]
  },
  {
   "cell_type": "markdown",
   "metadata": {},
   "source": [
    "Then, we set the files for our ligand and receptor. We will dock just our ideal ligand first. There are two parameters to docking, the `exhaustiveness` and `n_poses`.\n",
    "The exhaustiveness parameter describes the \"exhaustiveness\" of the docking - a higher exhaustiveness means taht more ligand conformations are tried. Exhaustiveness also corresponds to the amount of computational effort used during a docking experiment. The default exhaustiveness value is 8; increasing this to 32 will give a more consistent docking result. \n",
    "\n",
    "In this notebook, we set the exhaustiveness to 5 to improve speed for the workshop. If you were to do a real docking calculation, you should consider increasing this parameter."
   ]
  },
  {
   "cell_type": "code",
   "execution_count": null,
   "metadata": {},
   "outputs": [],
   "source": [
    "v.set_receptor(f\"pdbqt/{pdb_id}.pdbqt\")\n",
    "v.set_ligand_from_file(f\"pdbqt/{ligand}.pdbqt\")\n",
    "v.compute_vina_maps(center=pocket_center, box_size=ligand_box)\n",
    "v.dock(exhaustiveness=5, n_poses=5)"
   ]
  },
  {
   "cell_type": "markdown",
   "metadata": {},
   "source": [
    "After the `dock` function, we can write the poses that were calculated to a file."
   ]
  },
  {
   "cell_type": "code",
   "execution_count": null,
   "metadata": {},
   "outputs": [],
   "source": [
    "v.write_poses(f\"docking_results/{ligand}.pdbqt\", n_poses=5, overwrite=True)"
   ]
  },
  {
   "cell_type": "markdown",
   "metadata": {},
   "source": [
    "We can see the energies of the calculated poses by calling `energies` on the docking calculation variable.\n",
    "According to the Vina documentaiton, the rows correspond to the poses, while columns correspond to different energy types.\n",
    "The types of energies in the columns are `[\"total\", \"inter\", \"intra\", \"torsions\", \"intra best pose\"]`."
   ]
  },
  {
   "cell_type": "code",
   "execution_count": null,
   "metadata": {},
   "outputs": [],
   "source": [
    "v.energies()"
   ]
  },
  {
   "cell_type": "markdown",
   "metadata": {},
   "source": [
    "You might wish to save these energies to return to them later. \n",
    "The cell below creates a pandas dataframe and saves the energies as a comma-separated-value (CSV) file."
   ]
  },
  {
   "cell_type": "code",
   "execution_count": null,
   "metadata": {},
   "outputs": [],
   "source": [
    "import pandas as pd\n",
    "\n",
    "\n",
    "# These are the columns for the types of energies according to AutoDock Vina docs.\n",
    "column_names = [\"total\", \"inter\", \"intra\", \"torsions\", \"intra best pose\"]\n",
    "\n",
    "df = pd.DataFrame(v.energies(), columns=column_names)\n",
    "df.head()"
   ]
  },
  {
   "cell_type": "code",
   "execution_count": null,
   "metadata": {},
   "outputs": [],
   "source": [
    "# Save the calculated energies from docking to a CSV file\n",
    "df.to_csv(\"docking_results/13U_energies.csv\", index=False)"
   ]
  },
  {
   "cell_type": "markdown",
   "metadata": {},
   "source": [
    "## Analyzing Docking Results\n",
    "\n",
    "After performing the docking simulation and saving the energies, you might wish to visualize the poses.\n",
    "\n",
    "In the step above, we wrote the poses to the file `docking_results/13U.pdbqt`. \n",
    "AutoDock Vina only writes in this file, but in order to visualize your results, you'll want them in a more standard file format.\n",
    "We will use meeko again to convert our poses to an SDF.\n",
    "Note that meeko will only convert pdbqt files if it prepared the input docking files.\n",
    "That's why we had to use it above instead of OpenBabel.\n",
    "\n",
    "Again, we use a command line script to convert out poses."
   ]
  },
  {
   "cell_type": "code",
   "execution_count": null,
   "metadata": {},
   "outputs": [],
   "source": [
    "! mk_export.py docking_results/13U.pdbqt -o docking_results/13U.sdf"
   ]
  },
  {
   "cell_type": "markdown",
   "metadata": {},
   "source": [
    "After converting to SDF, we can again visualize our results with ProLIF."
   ]
  },
  {
   "cell_type": "code",
   "execution_count": null,
   "metadata": {},
   "outputs": [],
   "source": [
    "import prolif as plf\n",
    "import MDAnalysis as mda"
   ]
  },
  {
   "cell_type": "code",
   "execution_count": null,
   "metadata": {},
   "outputs": [],
   "source": [
    "pdb_id = \"2zq2\"\n",
    "\n",
    "protein = mda.Universe(f\"protein_structures/protein_h.pdb\")\n",
    "protein_plf = plf.Molecule.from_mda(protein)\n",
    "\n",
    "poses_plf = plf.sdf_supplier(\"docking_results/13U.sdf\")"
   ]
  },
  {
   "cell_type": "code",
   "execution_count": null,
   "metadata": {},
   "outputs": [],
   "source": [
    "fp = plf.Fingerprint()\n",
    "# run on your poses\n",
    "fp.run_from_iterable(poses_plf, protein_plf)"
   ]
  },
  {
   "cell_type": "code",
   "execution_count": null,
   "metadata": {},
   "outputs": [],
   "source": [
    "pose_index=1"
   ]
  },
  {
   "cell_type": "code",
   "execution_count": null,
   "metadata": {
    "scrolled": true
   },
   "outputs": [],
   "source": [
    "fp.plot_lignetwork(poses_plf[pose_index])"
   ]
  },
  {
   "cell_type": "code",
   "execution_count": null,
   "metadata": {},
   "outputs": [],
   "source": [
    "view = fp.plot_3d(\n",
    "    poses_plf[pose_index], protein_plf, frame=pose_index, display_all=False\n",
    ")\n",
    "view"
   ]
  },
  {
   "cell_type": "markdown",
   "metadata": {},
   "source": [
    "<div class=\"alert alert-block alert-warning\"> \n",
    "<h3>Exercise</h3>\n",
    "\n",
    "Try docking one of the ligands we modified in the previous notebook. Does it bind better or worse according to the docking score? Are the interactions different for the poses?\n",
    "</div>"
   ]
  },
  {
   "cell_type": "code",
   "execution_count": null,
   "metadata": {},
   "outputs": [],
   "source": []
  }
 ],
 "metadata": {
  "kernelspec": {
   "display_name": "Python 3 (ipykernel)",
   "language": "python",
   "name": "python3"
  },
  "language_info": {
   "codemirror_mode": {
    "name": "ipython",
    "version": 3
   },
   "file_extension": ".py",
   "mimetype": "text/x-python",
   "name": "python",
   "nbconvert_exporter": "python",
   "pygments_lexer": "ipython3",
   "version": "3.11.9"
  }
 },
 "nbformat": 4,
 "nbformat_minor": 4
}
